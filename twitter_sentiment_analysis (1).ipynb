{
 "cells": [
  {
   "cell_type": "markdown",
   "id": "5d3d914b",
   "metadata": {},
   "source": [
    "# Data Science"
   ]
  },
  {
   "cell_type": "markdown",
   "id": "ac79b5a9",
   "metadata": {},
   "source": [
    "<br>"
   ]
  },
  {
   "attachments": {},
   "cell_type": "markdown",
   "id": "e5dc5489",
   "metadata": {},
   "source": [
    "### Kishor Murade - 112003091\n",
    "### Pratik Sarode - 112003124\n",
    "### Rushikesh Pngle- 112003113"
   ]
  },
  {
   "cell_type": "markdown",
   "id": "3b1193ee",
   "metadata": {},
   "source": [
    "## Twitter Sentiment Analysis \n",
    "##               for \n",
    "## Product Review"
   ]
  },
  {
   "cell_type": "markdown",
   "id": "8203c96f",
   "metadata": {},
   "source": [
    "<br>"
   ]
  },
  {
   "cell_type": "markdown",
   "id": "c60f9d50",
   "metadata": {},
   "source": [
    "## Import Libraries"
   ]
  },
  {
   "cell_type": "code",
   "execution_count": 1,
   "id": "f1b178c2",
   "metadata": {},
   "outputs": [],
   "source": [
    "import snscrape.modules.twitter\n",
    "import csv\n",
    "import seaborn as sns \n",
    "import matplotlib.pyplot as plt \n",
    "%matplotlib inline \n",
    "import numpy as np\n",
    "import pandas as pd\n",
    "import datetime\n",
    "from scipy import stats\n",
    "from mlxtend.preprocessing import minmax_scaling\n",
    "from scipy.stats import norm\n",
    "import statistics\n",
    "import re\n",
    "import emoji\n",
    "from textblob import TextBlob\n",
    "import nltk \n",
    "from sklearn.model_selection import train_test_split  \n",
    "from sklearn.feature_extraction.text import TfidfTransformer\n",
    "from sklearn.feature_extraction.text import TfidfVectorizer\n",
    "from sklearn import svm\n",
    "from sklearn.metrics import classification_report, confusion_matrix, accuracy_score\n",
    "from collections import Counter\n",
    "import sklearn\n",
    "from sklearn.naive_bayes import MultinomialNB"
   ]
  },
  {
   "cell_type": "markdown",
   "id": "59fb76a1",
   "metadata": {},
   "source": [
    "### <br>"
   ]
  },
  {
   "cell_type": "markdown",
   "id": "09bc3212",
   "metadata": {},
   "source": [
    "## Data Scraping"
   ]
  },
  {
   "cell_type": "code",
   "execution_count": null,
   "id": "16820531",
   "metadata": {},
   "outputs": [],
   "source": [
    "header = ['id', 'username', 'content', 'date', 'like', 'reply', 'retweet']\n",
    "fp = open('iPhone.csv', 'w', encoding='UTF8', newline='')\n",
    "writer = csv.DictWriter(fp, fieldnames=header)\n",
    "writer.writeheader()\n",
    "\n",
    "limit = 15000\n",
    "\n",
    "for i, tweet in enumerate(snscrape.modules.twitter.TwitterSearchScraper('#iphone11 since:2020-12-30 lang:en').get_items()):\n",
    "    if i > limit:\n",
    "        break\n",
    "    writer.writerows([{'id': tweet.id,\n",
    "                       'username': tweet.user.username,\n",
    "                       'content': tweet.content, \n",
    "                       'date': tweet.date, \n",
    "                       'like': tweet.likeCount, \n",
    "                       'reply': tweet.replyCount, \n",
    "                       'retweet': tweet.retweetCount}])"
   ]
  },
  {
   "cell_type": "markdown",
   "id": "1c74caa0",
   "metadata": {},
   "source": [
    "<br>"
   ]
  },
  {
   "cell_type": "markdown",
   "id": "4ac405eb",
   "metadata": {},
   "source": [
    "## Importing data from csv file"
   ]
  },
  {
   "cell_type": "code",
   "execution_count": 2,
   "id": "9859917e",
   "metadata": {},
   "outputs": [],
   "source": [
    "df = pd.read_csv(r\"./iPhone.csv\")"
   ]
  },
  {
   "cell_type": "markdown",
   "id": "435d6abf",
   "metadata": {},
   "source": [
    "<br>"
   ]
  },
  {
   "cell_type": "markdown",
   "id": "b54fe911",
   "metadata": {},
   "source": [
    "## Datatypes"
   ]
  },
  {
   "cell_type": "code",
   "execution_count": 3,
   "id": "652fa1c3",
   "metadata": {},
   "outputs": [
    {
     "name": "stdout",
     "output_type": "stream",
     "text": [
      "<class 'pandas.core.frame.DataFrame'>\n",
      "RangeIndex: 19993 entries, 0 to 19992\n",
      "Data columns (total 7 columns):\n",
      " #   Column    Non-Null Count  Dtype \n",
      "---  ------    --------------  ----- \n",
      " 0   id        19993 non-null  int64 \n",
      " 1   username  19993 non-null  object\n",
      " 2   content   19993 non-null  object\n",
      " 3   date      19993 non-null  object\n",
      " 4   like      19993 non-null  int64 \n",
      " 5   reply     19993 non-null  int64 \n",
      " 6   retweet   19993 non-null  int64 \n",
      "dtypes: int64(4), object(3)\n",
      "memory usage: 1.1+ MB\n"
     ]
    }
   ],
   "source": [
    "df.info()"
   ]
  },
  {
   "cell_type": "markdown",
   "id": "5658bff8",
   "metadata": {},
   "source": [
    "<br>"
   ]
  },
  {
   "cell_type": "markdown",
   "id": "4eca602e",
   "metadata": {},
   "source": [
    "## Display data"
   ]
  },
  {
   "cell_type": "code",
   "execution_count": 4,
   "id": "a18fb548",
   "metadata": {},
   "outputs": [
    {
     "data": {
      "text/html": [
       "<div>\n",
       "<style scoped>\n",
       "    .dataframe tbody tr th:only-of-type {\n",
       "        vertical-align: middle;\n",
       "    }\n",
       "\n",
       "    .dataframe tbody tr th {\n",
       "        vertical-align: top;\n",
       "    }\n",
       "\n",
       "    .dataframe thead th {\n",
       "        text-align: right;\n",
       "    }\n",
       "</style>\n",
       "<table border=\"1\" class=\"dataframe\">\n",
       "  <thead>\n",
       "    <tr style=\"text-align: right;\">\n",
       "      <th></th>\n",
       "      <th>id</th>\n",
       "      <th>username</th>\n",
       "      <th>content</th>\n",
       "      <th>date</th>\n",
       "      <th>like</th>\n",
       "      <th>reply</th>\n",
       "      <th>retweet</th>\n",
       "    </tr>\n",
       "  </thead>\n",
       "  <tbody>\n",
       "    <tr>\n",
       "      <th>0</th>\n",
       "      <td>1649023985798004736</td>\n",
       "      <td>YaD3v</td>\n",
       "      <td>Download #UTG pro to get all #video_games info...</td>\n",
       "      <td>2023-04-20 12:15:30+00:00</td>\n",
       "      <td>0</td>\n",
       "      <td>0</td>\n",
       "      <td>0</td>\n",
       "    </tr>\n",
       "    <tr>\n",
       "      <th>1</th>\n",
       "      <td>1648944166662209536</td>\n",
       "      <td>WuKiana1</td>\n",
       "      <td>Silicone mobile phone case 3D magnetic suction...</td>\n",
       "      <td>2023-04-20 06:58:19+00:00</td>\n",
       "      <td>0</td>\n",
       "      <td>0</td>\n",
       "      <td>0</td>\n",
       "    </tr>\n",
       "    <tr>\n",
       "      <th>2</th>\n",
       "      <td>1648918260946202624</td>\n",
       "      <td>yahakunbaru</td>\n",
       "      <td>wts want to sell jual murahhhh iphone 11 tosca...</td>\n",
       "      <td>2023-04-20 05:15:23+00:00</td>\n",
       "      <td>0</td>\n",
       "      <td>1</td>\n",
       "      <td>0</td>\n",
       "    </tr>\n",
       "    <tr>\n",
       "      <th>3</th>\n",
       "      <td>1648668628580016128</td>\n",
       "      <td>GeniusPhone_R</td>\n",
       "      <td>$10 Off an iPhone 11 (All Models) Lifetime Bat...</td>\n",
       "      <td>2023-04-19 12:43:26+00:00</td>\n",
       "      <td>0</td>\n",
       "      <td>0</td>\n",
       "      <td>0</td>\n",
       "    </tr>\n",
       "    <tr>\n",
       "      <th>4</th>\n",
       "      <td>1648661583072047105</td>\n",
       "      <td>YaD3v</td>\n",
       "      <td>Download #UTG pro to get all #video_games info...</td>\n",
       "      <td>2023-04-19 12:15:26+00:00</td>\n",
       "      <td>0</td>\n",
       "      <td>0</td>\n",
       "      <td>0</td>\n",
       "    </tr>\n",
       "    <tr>\n",
       "      <th>5</th>\n",
       "      <td>1648623627124854786</td>\n",
       "      <td>FonezworldAK</td>\n",
       "      <td>⭐ IPhone 11 64GB New only €479 ⭐\\n💡NO FIX NO F...</td>\n",
       "      <td>2023-04-19 09:44:37+00:00</td>\n",
       "      <td>0</td>\n",
       "      <td>0</td>\n",
       "      <td>0</td>\n",
       "    </tr>\n",
       "    <tr>\n",
       "      <th>6</th>\n",
       "      <td>1648600538433351680</td>\n",
       "      <td>jakeyeology</td>\n",
       "      <td>UP UP UP #wts #ph #lfb #iPhone #iPhone11</td>\n",
       "      <td>2023-04-19 08:12:52+00:00</td>\n",
       "      <td>0</td>\n",
       "      <td>0</td>\n",
       "      <td>0</td>\n",
       "    </tr>\n",
       "    <tr>\n",
       "      <th>7</th>\n",
       "      <td>1648583621169512448</td>\n",
       "      <td>mattr</td>\n",
       "      <td>Birdman. \\n\\n#dublin #streetphotography #stree...</td>\n",
       "      <td>2023-04-19 07:05:39+00:00</td>\n",
       "      <td>5</td>\n",
       "      <td>0</td>\n",
       "      <td>0</td>\n",
       "    </tr>\n",
       "    <tr>\n",
       "      <th>8</th>\n",
       "      <td>1648579818085298177</td>\n",
       "      <td>WuKiana1</td>\n",
       "      <td>Electroplated mobile phone case with magnetic ...</td>\n",
       "      <td>2023-04-19 06:50:32+00:00</td>\n",
       "      <td>0</td>\n",
       "      <td>0</td>\n",
       "      <td>0</td>\n",
       "    </tr>\n",
       "    <tr>\n",
       "      <th>9</th>\n",
       "      <td>1648578989072719872</td>\n",
       "      <td>WuKiana1</td>\n",
       "      <td>Electroplated colorful mobile phone case.\\n#iP...</td>\n",
       "      <td>2023-04-19 06:47:14+00:00</td>\n",
       "      <td>0</td>\n",
       "      <td>0</td>\n",
       "      <td>0</td>\n",
       "    </tr>\n",
       "    <tr>\n",
       "      <th>10</th>\n",
       "      <td>1648541291251154944</td>\n",
       "      <td>38jie</td>\n",
       "      <td>Apple iPhone 11 by Studio7\\n฿16,600\\nพิกัด👇👇\\n...</td>\n",
       "      <td>2023-04-19 04:17:26+00:00</td>\n",
       "      <td>0</td>\n",
       "      <td>1</td>\n",
       "      <td>0</td>\n",
       "    </tr>\n",
       "    <tr>\n",
       "      <th>11</th>\n",
       "      <td>1648452145925218304</td>\n",
       "      <td>onspot_repair</td>\n",
       "      <td>Mobile Repair Van Solution  📞📱\\n🕸️https://t.co...</td>\n",
       "      <td>2023-04-18 22:23:13+00:00</td>\n",
       "      <td>1</td>\n",
       "      <td>0</td>\n",
       "      <td>0</td>\n",
       "    </tr>\n",
       "  </tbody>\n",
       "</table>\n",
       "</div>"
      ],
      "text/plain": [
       "                     id       username  \\\n",
       "0   1649023985798004736          YaD3v   \n",
       "1   1648944166662209536       WuKiana1   \n",
       "2   1648918260946202624    yahakunbaru   \n",
       "3   1648668628580016128  GeniusPhone_R   \n",
       "4   1648661583072047105          YaD3v   \n",
       "5   1648623627124854786   FonezworldAK   \n",
       "6   1648600538433351680    jakeyeology   \n",
       "7   1648583621169512448          mattr   \n",
       "8   1648579818085298177       WuKiana1   \n",
       "9   1648578989072719872       WuKiana1   \n",
       "10  1648541291251154944          38jie   \n",
       "11  1648452145925218304  onspot_repair   \n",
       "\n",
       "                                              content  \\\n",
       "0   Download #UTG pro to get all #video_games info...   \n",
       "1   Silicone mobile phone case 3D magnetic suction...   \n",
       "2   wts want to sell jual murahhhh iphone 11 tosca...   \n",
       "3   $10 Off an iPhone 11 (All Models) Lifetime Bat...   \n",
       "4   Download #UTG pro to get all #video_games info...   \n",
       "5   ⭐ IPhone 11 64GB New only €479 ⭐\\n💡NO FIX NO F...   \n",
       "6            UP UP UP #wts #ph #lfb #iPhone #iPhone11   \n",
       "7   Birdman. \\n\\n#dublin #streetphotography #stree...   \n",
       "8   Electroplated mobile phone case with magnetic ...   \n",
       "9   Electroplated colorful mobile phone case.\\n#iP...   \n",
       "10  Apple iPhone 11 by Studio7\\n฿16,600\\nพิกัด👇👇\\n...   \n",
       "11  Mobile Repair Van Solution  📞📱\\n🕸️https://t.co...   \n",
       "\n",
       "                         date  like  reply  retweet  \n",
       "0   2023-04-20 12:15:30+00:00     0      0        0  \n",
       "1   2023-04-20 06:58:19+00:00     0      0        0  \n",
       "2   2023-04-20 05:15:23+00:00     0      1        0  \n",
       "3   2023-04-19 12:43:26+00:00     0      0        0  \n",
       "4   2023-04-19 12:15:26+00:00     0      0        0  \n",
       "5   2023-04-19 09:44:37+00:00     0      0        0  \n",
       "6   2023-04-19 08:12:52+00:00     0      0        0  \n",
       "7   2023-04-19 07:05:39+00:00     5      0        0  \n",
       "8   2023-04-19 06:50:32+00:00     0      0        0  \n",
       "9   2023-04-19 06:47:14+00:00     0      0        0  \n",
       "10  2023-04-19 04:17:26+00:00     0      1        0  \n",
       "11  2023-04-18 22:23:13+00:00     1      0        0  "
      ]
     },
     "execution_count": 4,
     "metadata": {},
     "output_type": "execute_result"
    }
   ],
   "source": [
    "df.head(12)"
   ]
  },
  {
   "cell_type": "markdown",
   "id": "97cf0b02",
   "metadata": {},
   "source": [
    "<br>"
   ]
  },
  {
   "cell_type": "markdown",
   "id": "ab97aaaf",
   "metadata": {},
   "source": [
    "## Shape"
   ]
  },
  {
   "cell_type": "code",
   "execution_count": 5,
   "id": "fe65f90e",
   "metadata": {},
   "outputs": [
    {
     "data": {
      "text/plain": [
       "(19993, 7)"
      ]
     },
     "execution_count": 5,
     "metadata": {},
     "output_type": "execute_result"
    }
   ],
   "source": [
    "df.shape"
   ]
  },
  {
   "cell_type": "markdown",
   "id": "4b3845ba",
   "metadata": {},
   "source": [
    "<br>"
   ]
  },
  {
   "cell_type": "markdown",
   "id": "5f3555ce",
   "metadata": {},
   "source": [
    "## Replace emoticons"
   ]
  },
  {
   "cell_type": "code",
   "execution_count": 6,
   "id": "db36f4fd",
   "metadata": {},
   "outputs": [
    {
     "name": "stdout",
     "output_type": "stream",
     "text": [
      "The emoticons found in the data are:\n",
      "[(24263, ':/'), (2258, ': '), (2250, 'X '), (1560, 'XS'), (1217, 'XR'), (455, 'xs'), (438, 'xr'), (185, 'Xs'), (114, ';)'), (112, 'Xr'), (100, 'XI'), (86, 'xD'), (85, 'XD'), (63, 'x3'), (59, 'XP'), (57, 'X3'), (53, ':)'), (38, ':-'), (19, '::'), (18, 'X,'), (13, ':D'), (9, 'X.'), (7, ':('), (2, 'X?'), (2, 'X:'), (1, ':-)'), (1, ':-(')]\n",
      "\n"
     ]
    }
   ],
   "source": [
    "content = df.content.str.cat()\n",
    "emos = set(re.findall(r\" ([xX:;][-']?.) \",content))\n",
    "emos_count = []\n",
    "for emo in emos:\n",
    "    emos_count.append((content.count(emo), emo))\n",
    "emos_count = sorted(emos_count,reverse=True)\n",
    "print(\"The emoticons found in the data are:\")\n",
    "print(emos_count)\n",
    "print()\n",
    "\n",
    "#classify the emoticons as 'happy emoticons' and 'sad emoticons'\n",
    "emos_happy = set([':-)', ':)', ';)', ':o)', ':]', ':3', ':c)', ':>', '=]', '8)', '=)', ':}', ':D',\n",
    "    ':^)', ':-D', ':D', '8-D', '8D', 'x-D', 'xD', 'X-D', 'XD', '=-D', '=D',\n",
    "    '=-3', '=3', ':-))', \":'-)\", \":')\", ':*', ':^*', '>:P', ':-P', ':P', 'X-P',\n",
    "    'x-p', 'xp', 'XP', ':-p', ':p', '=p', ':-b', ':b', '>:)', '>;)', '>:-)', '<3'])\n",
    "\n",
    "emos_sad = set([':L', ':-/', '>:/', ':S', '>:[', ':@', ':-(', ':[', ':-||', '=L', ':<',\n",
    "    ':-[', ':-<', '=\\\\', '=/', '>:(', ':(', '>.<', \":'-(\", \":'(\", ':\\\\', ':-c',\n",
    "    ':c', ':{', '>:\\\\', ';('])  \n",
    "\n",
    "#function to replace emoticons with sentiment related\n",
    "def emos_replace(text):\n",
    "  text = text.split()\n",
    "  for i in range(len(text)):\n",
    "    if text[i] in emos_happy:\n",
    "      text[i] = 'happy'\n",
    "    elif text[i] in emos_sad:\n",
    "      text[i] = 'sad'\n",
    "  text = ' '.join(text)\n",
    "  return text\n"
   ]
  },
  {
   "cell_type": "markdown",
   "id": "0e44bb01",
   "metadata": {},
   "source": [
    "<br>"
   ]
  },
  {
   "cell_type": "markdown",
   "id": "10faaa0d",
   "metadata": {},
   "source": [
    "## Function to delete single character"
   ]
  },
  {
   "cell_type": "code",
   "execution_count": 7,
   "id": "c79c3f6a",
   "metadata": {},
   "outputs": [],
   "source": [
    "def del_singles(text):\n",
    "  text = str(text)\n",
    "  text = text.split()\n",
    "  text_new=[]\n",
    "  for word in text:\n",
    "    if(len(word)>1):\n",
    "      text_new.append(word)\n",
    "  text_new = \" \".join(text_new)\n",
    "  return text_new"
   ]
  },
  {
   "cell_type": "markdown",
   "id": "181b4f0d",
   "metadata": {},
   "source": [
    "<br>"
   ]
  },
  {
   "cell_type": "markdown",
   "id": "9c98e3ee",
   "metadata": {},
   "source": [
    "## Function to replace emoji"
   ]
  },
  {
   "cell_type": "code",
   "execution_count": 8,
   "id": "8c2f866f",
   "metadata": {},
   "outputs": [],
   "source": [
    "def replace_emoji(text):\n",
    "    text = emoji.demojize(text)\n",
    "    text = text.replace(\":\",\" \")\n",
    "    text = ' '.join(text.split())\n",
    "    return text"
   ]
  },
  {
   "cell_type": "markdown",
   "id": "9540fe9c",
   "metadata": {},
   "source": [
    "<br>"
   ]
  },
  {
   "cell_type": "markdown",
   "id": "36fb24b1",
   "metadata": {},
   "source": [
    "## Function to clean data"
   ]
  },
  {
   "cell_type": "code",
   "execution_count": 10,
   "id": "8bed6f62",
   "metadata": {},
   "outputs": [],
   "source": [
    "def data_cleaning(text):\n",
    "\n",
    "    #remove NON-ASCII characters\n",
    "    text = re.sub('\\\\\\\\u[0-9A-Fa-f]{4}','', text)\n",
    "\n",
    "    #mark emoticons as happy or sad\n",
    "    text = emos_replace(text)\n",
    "    \n",
    "    #replace emojis with their meaning\n",
    "    text = replace_emoji(text)\n",
    "\n",
    "    # remove retweet 'RT' \n",
    "    text = re.sub('RT[\\s]+', '', text)\n",
    "\n",
    "    #remove the user mentions\n",
    "    text = re.sub('@[A-Za-z0–9]+', '', text) \n",
    "\n",
    "    #remove numbers\n",
    "    text = re.sub(\"[0-9]\", \"\", text) \n",
    "\n",
    "    #Keeping only the word after the #\n",
    "    text = re.sub('#', '', text)\n",
    "\n",
    "    # remove usernames\n",
    "    text = re.sub('@[^\\s]+', '', text)\n",
    "    text= re.sub(r\"[-\\.\\n]\", \"\",text)\n",
    "\n",
    "    # remove links (URLs/ links)\n",
    "    text = re.sub('((www\\.[^\\s]+)|(https?://[^\\s]+))', '', text)\n",
    "\n",
    "    # remove punctuations\n",
    "    text = re.sub('[!\"$%&\\'()*+,-./:@;<=>?[\\\\]^_`{|}~]', '', text)\n",
    "\n",
    "    # Removing HTML garbage\n",
    "    text = re.sub(r\"&\\w+;\", \"\",text)\n",
    "\n",
    "    # replace repeated letters with only two occurences\n",
    "    # heeeelllloooo => heelloo\n",
    "    text = re.sub(r\"(.)\\1+\", r\"\\1\\1\",text)\n",
    "\n",
    "    #remove single letters \n",
    "    text = del_singles(text)\n",
    "    \n",
    "    text = text.lower()\n",
    "\n",
    "    return text\n"
   ]
  },
  {
   "cell_type": "markdown",
   "id": "6ccc9467",
   "metadata": {},
   "source": [
    "<br>"
   ]
  },
  {
   "cell_type": "markdown",
   "id": "ac84f944",
   "metadata": {},
   "source": [
    "## Store cleaned tweets in list"
   ]
  },
  {
   "cell_type": "code",
   "execution_count": 11,
   "id": "6b92f230",
   "metadata": {
    "scrolled": false
   },
   "outputs": [
    {
     "name": "stdout",
     "output_type": "stream",
     "text": [
      "1 download utg pro to get all videogames information you want available on ios for iphone and ipad apple iphone https tconjagk https tcovatsaz \n",
      "\n",
      "2 silicone mobile phone case magnetic suction design iphonecase positivephonecase phonecases iphone iphone iphonepro iphonemax iphone redheart like envelope comment speakinghead share https tcodzfetctrk \n",
      "\n",
      "3 wts want to sell jual murahh iphone tosca gb pemakaian cewe ex inter hb masi mulus fullset no hf all provider face id on true tone on dm for price roundpushpin dom bintaro tangerang selatan wts jual zonabu zonauang murah jualiphone iphone https tcovwhdrdpes \n",
      "\n",
      "4 off an iphone all models lifetime battery replacement geniuscpr iphone iphonerepair battery replacement phoneprotection https tcomjmamssf https tcoobxffysabt \n",
      "\n",
      "5 download utg pro to get all videogames information you want available on ios for iphone and ipad apple iphone https tcoztvtile https tcokgvglcdls \n",
      "\n"
     ]
    }
   ],
   "source": [
    "tweet = []\n",
    "for i in df.content:\n",
    "    tweet.append(data_cleaning(i))\n",
    "    \n",
    "for i in range(5):\n",
    "    print(i+1,tweet[i],\"\\n\")"
   ]
  },
  {
   "cell_type": "markdown",
   "id": "0958e3b3",
   "metadata": {},
   "source": [
    "<br>"
   ]
  },
  {
   "cell_type": "markdown",
   "id": "cd4bc1d9",
   "metadata": {},
   "source": [
    "## Sentiment from emoticons and emoji"
   ]
  },
  {
   "cell_type": "code",
   "execution_count": 12,
   "id": "7e87d9eb",
   "metadata": {},
   "outputs": [
    {
     "data": {
      "text/plain": [
       "Text(0, 0.5, 'Count')"
      ]
     },
     "execution_count": 12,
     "metadata": {},
     "output_type": "execute_result"
    },
    {
     "data": {
      "image/png": "[encoded data removed]",
      "text/plain": [
       "<Figure size 700x500 with 1 Axes>"
      ]
     },
     "metadata": {},
     "output_type": "display_data"
    }
   ],
   "source": [
    "happy = 0\n",
    "sad = 0\n",
    "\n",
    "for i in tweet:\n",
    "    if(\"happy\" in i):\n",
    "        happy = happy + 1\n",
    "    if(\"sad\" in i):\n",
    "        sad += 1\n",
    "data_dict = {'happy': happy, 'sad': sad}\n",
    "sentiment = list(data_dict.keys())\n",
    "values = list(data_dict.values())\n",
    "\n",
    "fig = plt.figure(figsize = (7, 5))\n",
    "plt.bar(sentiment, values, color ='orange',\n",
    "        width = 0.6)\n",
    "plt.xlabel(\"Sentiment\")\n",
    "plt.ylabel(\"Count\")\n"
   ]
  },
  {
   "cell_type": "markdown",
   "id": "b175868b",
   "metadata": {},
   "source": [
    "<br>"
   ]
  },
  {
   "cell_type": "markdown",
   "id": "6f8b90fa",
   "metadata": {},
   "source": [
    "## Tweets per year"
   ]
  },
  {
   "cell_type": "code",
   "execution_count": 38,
   "id": "499d1f33",
   "metadata": {},
   "outputs": [
    {
     "data": {
      "text/plain": [
       "Text(0, 0.5, 'Tweet Count')"
      ]
     },
     "execution_count": 38,
     "metadata": {},
     "output_type": "execute_result"
    },
    {
     "data": {
      "image/png": "[encoded data removed]",
      "text/plain": [
       "<Figure size 1000x500 with 1 Axes>"
      ]
     },
     "metadata": {},
     "output_type": "display_data"
    }
   ],
   "source": [
    "a = 0\n",
    "b = 0\n",
    "c = 0\n",
    "d = 0\n",
    "for i in df.date:\n",
    "    \n",
    "    if(\"2020\" in str(i)):\n",
    "        a += 1\n",
    "        \n",
    "    if(\"2021\" in str(i)):\n",
    "        b += 1\n",
    "        \n",
    "    if(\"2022\" in str(i)):\n",
    "        c += 1\n",
    "        \n",
    "    if(\"2023\" in str(i)):\n",
    "        d += 1\n",
    "        \n",
    "dates_dict = {'2020': a, '2021': b, '2022': c, '2023': d}\n",
    "dates = list(dates_dict.keys())\n",
    "values = list(dates_dict.values())\n",
    "fig = plt.figure(figsize = (10, 5))\n",
    "plt.bar(dates, values, color ='orange',\n",
    "        width = 0.5)\n",
    "plt.xlabel(\"Year\")\n",
    "plt.ylabel(\"Tweet Count\")"
   ]
  },
  {
   "cell_type": "markdown",
   "id": "e47a6f94",
   "metadata": {},
   "source": [
    "<br>"
   ]
  },
  {
   "cell_type": "markdown",
   "id": "69d4ab02",
   "metadata": {},
   "source": [
    "## Correlation and heatmaps"
   ]
  },
  {
   "cell_type": "code",
   "execution_count": 39,
   "id": "d59517bb",
   "metadata": {},
   "outputs": [
    {
     "name": "stderr",
     "output_type": "stream",
     "text": [
      "/tmp/ipykernel_8659/1134722465.py:1: FutureWarning: The default value of numeric_only in DataFrame.corr is deprecated. In a future version, it will default to False. Select only valid columns or specify the value of numeric_only to silence this warning.\n",
      "  df.corr()\n"
     ]
    },
    {
     "data": {
      "text/html": [
       "<div>\n",
       "<style scoped>\n",
       "    .dataframe tbody tr th:only-of-type {\n",
       "        vertical-align: middle;\n",
       "    }\n",
       "\n",
       "    .dataframe tbody tr th {\n",
       "        vertical-align: top;\n",
       "    }\n",
       "\n",
       "    .dataframe thead th {\n",
       "        text-align: right;\n",
       "    }\n",
       "</style>\n",
       "<table border=\"1\" class=\"dataframe\">\n",
       "  <thead>\n",
       "    <tr style=\"text-align: right;\">\n",
       "      <th></th>\n",
       "      <th>id</th>\n",
       "      <th>like</th>\n",
       "      <th>reply</th>\n",
       "      <th>retweet</th>\n",
       "    </tr>\n",
       "  </thead>\n",
       "  <tbody>\n",
       "    <tr>\n",
       "      <th>id</th>\n",
       "      <td>1.000000</td>\n",
       "      <td>-0.038927</td>\n",
       "      <td>0.003677</td>\n",
       "      <td>-0.039567</td>\n",
       "    </tr>\n",
       "    <tr>\n",
       "      <th>like</th>\n",
       "      <td>-0.038927</td>\n",
       "      <td>1.000000</td>\n",
       "      <td>0.399714</td>\n",
       "      <td>0.671599</td>\n",
       "    </tr>\n",
       "    <tr>\n",
       "      <th>reply</th>\n",
       "      <td>0.003677</td>\n",
       "      <td>0.399714</td>\n",
       "      <td>1.000000</td>\n",
       "      <td>0.261670</td>\n",
       "    </tr>\n",
       "    <tr>\n",
       "      <th>retweet</th>\n",
       "      <td>-0.039567</td>\n",
       "      <td>0.671599</td>\n",
       "      <td>0.261670</td>\n",
       "      <td>1.000000</td>\n",
       "    </tr>\n",
       "  </tbody>\n",
       "</table>\n",
       "</div>"
      ],
      "text/plain": [
       "               id      like     reply   retweet\n",
       "id       1.000000 -0.038927  0.003677 -0.039567\n",
       "like    -0.038927  1.000000  0.399714  0.671599\n",
       "reply    0.003677  0.399714  1.000000  0.261670\n",
       "retweet -0.039567  0.671599  0.261670  1.000000"
      ]
     },
     "execution_count": 39,
     "metadata": {},
     "output_type": "execute_result"
    }
   ],
   "source": [
    "df.corr()"
   ]
  },
  {
   "cell_type": "code",
   "execution_count": 15,
   "id": "a66ac2d0",
   "metadata": {},
   "outputs": [
    {
     "name": "stderr",
     "output_type": "stream",
     "text": [
      "/tmp/ipykernel_8659/58359773.py:1: FutureWarning: The default value of numeric_only in DataFrame.corr is deprecated. In a future version, it will default to False. Select only valid columns or specify the value of numeric_only to silence this warning.\n",
      "  sns.heatmap(df.corr())\n"
     ]
    },
    {
     "data": {
      "text/plain": [
       "<Axes: >"
      ]
     },
     "execution_count": 15,
     "metadata": {},
     "output_type": "execute_result"
    },
    {
     "data": {
      "image/png": "[encoded data removed]",
      "text/plain": [
       "<Figure size 640x480 with 2 Axes>"
      ]
     },
     "metadata": {},
     "output_type": "display_data"
    }
   ],
   "source": [
    "sns.heatmap(df.corr())"
   ]
  },
  {
   "cell_type": "code",
   "execution_count": 16,
   "id": "00eefb2c",
   "metadata": {},
   "outputs": [
    {
     "name": "stderr",
     "output_type": "stream",
     "text": [
      "/tmp/ipykernel_8659/456078719.py:1: FutureWarning: The default value of numeric_only in DataFrame.corr is deprecated. In a future version, it will default to False. Select only valid columns or specify the value of numeric_only to silence this warning.\n",
      "  dataplot = sns.heatmap(df.corr(), cmap=\"YlGnBu\", annot=True)\n"
     ]
    },
    {
     "data": {
      "image/png": "[encoded data removed]",
      "text/plain": [
       "<Figure size 640x480 with 2 Axes>"
      ]
     },
     "metadata": {},
     "output_type": "display_data"
    }
   ],
   "source": [
    "dataplot = sns.heatmap(df.corr(), cmap=\"YlGnBu\", annot=True)"
   ]
  },
  {
   "cell_type": "markdown",
   "id": "fc86d1ba",
   "metadata": {},
   "source": [
    "<br>"
   ]
  },
  {
   "cell_type": "markdown",
   "id": "9cd7cd16",
   "metadata": {},
   "source": [
    "## Pairplot"
   ]
  },
  {
   "cell_type": "code",
   "execution_count": 17,
   "id": "398ef9d6",
   "metadata": {},
   "outputs": [
    {
     "data": {
      "text/plain": [
       "<seaborn.axisgrid.PairGrid at 0x7f154e8e2230>"
      ]
     },
     "execution_count": 17,
     "metadata": {},
     "output_type": "execute_result"
    },
    {
     "data": {
      "image/png": "[encoded data removed]",
      "text/plain": [
       "<Figure size 1000x1000 with 20 Axes>"
      ]
     },
     "metadata": {},
     "output_type": "display_data"
    }
   ],
   "source": [
    "sns.pairplot(df)"
   ]
  },
  {
   "cell_type": "markdown",
   "id": "18e62431",
   "metadata": {},
   "source": [
    "<br>"
   ]
  },
  {
   "cell_type": "markdown",
   "id": "b534d9f2",
   "metadata": {},
   "source": [
    "## Replace tweet text with clean text in dataframe"
   ]
  },
  {
   "cell_type": "code",
   "execution_count": 18,
   "id": "fb2e1798",
   "metadata": {},
   "outputs": [],
   "source": [
    "pd.options.mode.chained_assignment = None\n",
    "i = 0\n",
    "for t in tweet:\n",
    "    df.content[i] = t\n",
    "    i = i + 1"
   ]
  },
  {
   "cell_type": "markdown",
   "id": "f03985a6",
   "metadata": {},
   "source": [
    "<br>"
   ]
  },
  {
   "cell_type": "markdown",
   "id": "1e2f3492",
   "metadata": {},
   "source": [
    "## Classify sentiment of tweets"
   ]
  },
  {
   "cell_type": "code",
   "execution_count": 19,
   "id": "02ee2c75",
   "metadata": {},
   "outputs": [],
   "source": [
    "# classify sentiment of passed tweet using textblob's sentiment method\n",
    "sentiment = []\n",
    "for t in df.content:\n",
    "    analysis = TextBlob(t)\n",
    "    if(analysis.sentiment.polarity > 0):\n",
    "        sentiment.append(\"Positive\")\n",
    "    elif(analysis.sentiment.polarity < 0):\n",
    "        sentiment.append(\"Negative\")\n",
    "    else:\n",
    "        sentiment.append(\"Neutral\")"
   ]
  },
  {
   "cell_type": "markdown",
   "id": "e650c8d4",
   "metadata": {},
   "source": [
    "<br>"
   ]
  },
  {
   "cell_type": "markdown",
   "id": "65fe42e6",
   "metadata": {},
   "source": [
    "## Add sentiment column in dataframe"
   ]
  },
  {
   "cell_type": "code",
   "execution_count": 20,
   "id": "a5d84c68",
   "metadata": {},
   "outputs": [],
   "source": [
    "df['sentiment'] = sentiment"
   ]
  },
  {
   "cell_type": "markdown",
   "id": "511ee343",
   "metadata": {},
   "source": [
    "<br>"
   ]
  },
  {
   "cell_type": "markdown",
   "id": "6f06e8b1",
   "metadata": {},
   "source": [
    "## Sentiment bar plot"
   ]
  },
  {
   "cell_type": "code",
   "execution_count": 21,
   "id": "bdfac0e2",
   "metadata": {},
   "outputs": [
    {
     "data": {
      "text/plain": [
       "Text(0.5, 1.0, 'Dataset labels distribuition')"
      ]
     },
     "execution_count": 21,
     "metadata": {},
     "output_type": "execute_result"
    },
    {
     "data": {
      "image/png": "[encoded data removed]",
      "text/plain": [
       "<Figure size 700x400 with 1 Axes>"
      ]
     },
     "metadata": {},
     "output_type": "display_data"
    }
   ],
   "source": [
    "#plotting the bar plot\n",
    "sentiment_cnt = Counter(df.sentiment)\n",
    "plt.figure(figsize=(7,4))\n",
    "plt.bar(sentiment_cnt.keys(),\n",
    "        sentiment_cnt.values(),\n",
    "        color=('b','g','r'))\n",
    "plt.title(\"Dataset labels distribuition\")"
   ]
  },
  {
   "cell_type": "markdown",
   "id": "24ff6143",
   "metadata": {},
   "source": [
    "<br>"
   ]
  },
  {
   "cell_type": "markdown",
   "id": "2cc6e973",
   "metadata": {},
   "source": [
    "## Tokenize the tweet text"
   ]
  },
  {
   "cell_type": "code",
   "execution_count": 25,
   "id": "30db5dea",
   "metadata": {},
   "outputs": [],
   "source": [
    "# creating a list of tokens\n",
    "from nltk.tokenize import word_tokenize\n",
    "token = []\n",
    "for t in tweet:\n",
    "    token.extend(word_tokenize(t))"
   ]
  },
  {
   "cell_type": "markdown",
   "id": "f5bcb612",
   "metadata": {},
   "source": [
    "<br>"
   ]
  },
  {
   "cell_type": "markdown",
   "id": "c6df5184",
   "metadata": {},
   "source": [
    "## Building the model"
   ]
  },
  {
   "cell_type": "code",
   "execution_count": 26,
   "id": "7d6bbab0",
   "metadata": {},
   "outputs": [
    {
     "name": "stdout",
     "output_type": "stream",
     "text": [
      "Train data:  13995\n",
      "Test data:  5998\n"
     ]
    }
   ],
   "source": [
    "x = tweet\n",
    "y = df['sentiment'].values\n",
    "\n",
    "# spliting the data for training and validation\n",
    "x_train, x_test, y_train, y_test = train_test_split(x, y, test_size = 0.3, random_state = 1)\n",
    "\n",
    "# print the length of train and test(validation) data\n",
    "print(\"Train data: \", len(x_train))\n",
    "print(\"Test data: \", len(x_test))"
   ]
  },
  {
   "cell_type": "markdown",
   "id": "117ab99f",
   "metadata": {},
   "source": [
    "<br>"
   ]
  },
  {
   "cell_type": "markdown",
   "id": "9e92c176",
   "metadata": {},
   "source": [
    "## Converting the strings into numeric data that the model would understand"
   ]
  },
  {
   "cell_type": "code",
   "execution_count": 27,
   "id": "2f7e7a88",
   "metadata": {},
   "outputs": [],
   "source": [
    "# convert the string(tweets) data into numeric data which the SVM would understand\n",
    "vectorizer = TfidfVectorizer()\n",
    "train_vectors = vectorizer.fit_transform(x_train)\n",
    "test_vectors = vectorizer.transform(x_test)"
   ]
  },
  {
   "cell_type": "markdown",
   "id": "a82043e3",
   "metadata": {},
   "source": [
    "<br>"
   ]
  },
  {
   "cell_type": "markdown",
   "id": "923dd4e8",
   "metadata": {},
   "source": [
    "## Training the model ( SVM )"
   ]
  },
  {
   "cell_type": "code",
   "execution_count": 28,
   "id": "6328047a",
   "metadata": {},
   "outputs": [
    {
     "data": {
      "text/html": [
       "<style>#sk-container-id-1 {color: black;background-color: white;}#sk-container-id-1 pre{padding: 0;}#sk-container-id-1 div.sk-toggleable {background-color: white;}#sk-container-id-1 label.sk-toggleable__label {cursor: pointer;display: block;width: 100%;margin-bottom: 0;padding: 0.3em;box-sizing: border-box;text-align: center;}#sk-container-id-1 label.sk-toggleable__label-arrow:before {content: \"▸\";float: left;margin-right: 0.25em;color: #696969;}#sk-container-id-1 label.sk-toggleable__label-arrow:hover:before {color: black;}#sk-container-id-1 div.sk-estimator:hover label.sk-toggleable__label-arrow:before {color: black;}#sk-container-id-1 div.sk-toggleable__content {max-height: 0;max-width: 0;overflow: hidden;text-align: left;background-color: #f0f8ff;}#sk-container-id-1 div.sk-toggleable__content pre {margin: 0.2em;color: black;border-radius: 0.25em;background-color: #f0f8ff;}#sk-container-id-1 input.sk-toggleable__control:checked~div.sk-toggleable__content {max-height: 200px;max-width: 100%;overflow: auto;}#sk-container-id-1 input.sk-toggleable__control:checked~label.sk-toggleable__label-arrow:before {content: \"▾\";}#sk-container-id-1 div.sk-estimator input.sk-toggleable__control:checked~label.sk-toggleable__label {background-color: #d4ebff;}#sk-container-id-1 div.sk-label input.sk-toggleable__control:checked~label.sk-toggleable__label {background-color: #d4ebff;}#sk-container-id-1 input.sk-hidden--visually {border: 0;clip: rect(1px 1px 1px 1px);clip: rect(1px, 1px, 1px, 1px);height: 1px;margin: -1px;overflow: hidden;padding: 0;position: absolute;width: 1px;}#sk-container-id-1 div.sk-estimator {font-family: monospace;background-color: #f0f8ff;border: 1px dotted black;border-radius: 0.25em;box-sizing: border-box;margin-bottom: 0.5em;}#sk-container-id-1 div.sk-estimator:hover {background-color: #d4ebff;}#sk-container-id-1 div.sk-parallel-item::after {content: \"\";width: 100%;border-bottom: 1px solid gray;flex-grow: 1;}#sk-container-id-1 div.sk-label:hover label.sk-toggleable__label {background-color: #d4ebff;}#sk-container-id-1 div.sk-serial::before {content: \"\";position: absolute;border-left: 1px solid gray;box-sizing: border-box;top: 0;bottom: 0;left: 50%;z-index: 0;}#sk-container-id-1 div.sk-serial {display: flex;flex-direction: column;align-items: center;background-color: white;padding-right: 0.2em;padding-left: 0.2em;position: relative;}#sk-container-id-1 div.sk-item {position: relative;z-index: 1;}#sk-container-id-1 div.sk-parallel {display: flex;align-items: stretch;justify-content: center;background-color: white;position: relative;}#sk-container-id-1 div.sk-item::before, #sk-container-id-1 div.sk-parallel-item::before {content: \"\";position: absolute;border-left: 1px solid gray;box-sizing: border-box;top: 0;bottom: 0;left: 50%;z-index: -1;}#sk-container-id-1 div.sk-parallel-item {display: flex;flex-direction: column;z-index: 1;position: relative;background-color: white;}#sk-container-id-1 div.sk-parallel-item:first-child::after {align-self: flex-end;width: 50%;}#sk-container-id-1 div.sk-parallel-item:last-child::after {align-self: flex-start;width: 50%;}#sk-container-id-1 div.sk-parallel-item:only-child::after {width: 0;}#sk-container-id-1 div.sk-dashed-wrapped {border: 1px dashed gray;margin: 0 0.4em 0.5em 0.4em;box-sizing: border-box;padding-bottom: 0.4em;background-color: white;}#sk-container-id-1 div.sk-label label {font-family: monospace;font-weight: bold;display: inline-block;line-height: 1.2em;}#sk-container-id-1 div.sk-label-container {text-align: center;}#sk-container-id-1 div.sk-container {/* jupyter's `normalize.less` sets `[hidden] { display: none; }` but bootstrap.min.css set `[hidden] { display: none !important; }` so we also need the `!important` here to be able to override the default hidden behavior on the sphinx rendered scikit-learn.org. See: https://github.com/scikit-learn/scikit-learn/issues/21755 */display: inline-block !important;position: relative;}#sk-container-id-1 div.sk-text-repr-fallback {display: none;}</style><div id=\"sk-container-id-1\" class=\"sk-top-container\"><div class=\"sk-text-repr-fallback\"><pre>SVC(C=0.98, kernel=&#x27;linear&#x27;)</pre><b>In a Jupyter environment, please rerun this cell to show the HTML representation or trust the notebook. <br />On GitHub, the HTML representation is unable to render, please try loading this page with nbviewer.org.</b></div><div class=\"sk-container\" hidden><div class=\"sk-item\"><div class=\"sk-estimator sk-toggleable\"><input class=\"sk-toggleable__control sk-hidden--visually\" id=\"sk-estimator-id-1\" type=\"checkbox\" checked><label for=\"sk-estimator-id-1\" class=\"sk-toggleable__label sk-toggleable__label-arrow\">SVC</label><div class=\"sk-toggleable__content\"><pre>SVC(C=0.98, kernel=&#x27;linear&#x27;)</pre></div></div></div></div></div>"
      ],
      "text/plain": [
       "SVC(C=0.98, kernel='linear')"
      ]
     },
     "execution_count": 28,
     "metadata": {},
     "output_type": "execute_result"
    }
   ],
   "source": [
    "# Building a Support Vector Machine Model using TF-IDF approach\n",
    "model_SVM = svm.SVC(C=0.98,kernel='linear')\n",
    "model_SVM.fit(train_vectors, y_train)"
   ]
  },
  {
   "cell_type": "markdown",
   "id": "7b86d1f0",
   "metadata": {},
   "source": [
    "<br>"
   ]
  },
  {
   "cell_type": "markdown",
   "id": "485bfbd4",
   "metadata": {},
   "source": [
    "## Testing"
   ]
  },
  {
   "cell_type": "code",
   "execution_count": 29,
   "id": "67a5d926",
   "metadata": {},
   "outputs": [
    {
     "name": "stdout",
     "output_type": "stream",
     "text": [
      "\n",
      "EVALUTION MATRIX\n",
      "\n",
      " [[ 551  148  126]\n",
      " [  11 1933  144]\n",
      " [  76  153 2856]]\n",
      "\n",
      "\n",
      "\n",
      "CLASSIFICATION MATRIX\n",
      "\n",
      "                precision    recall  f1-score   support\n",
      "\n",
      "    Negative       0.86      0.67      0.75       825\n",
      "     Neutral       0.87      0.93      0.89      2088\n",
      "    Positive       0.91      0.93      0.92      3085\n",
      "\n",
      "    accuracy                           0.89      5998\n",
      "   macro avg       0.88      0.84      0.86      5998\n",
      "weighted avg       0.89      0.89      0.89      5998\n",
      "\n"
     ]
    }
   ],
   "source": [
    "y_pred = model_SVM.predict(test_vectors)   \n",
    "cm = confusion_matrix(y_test,y_pred)\n",
    "report = classification_report(y_test,y_pred)\n",
    "\n",
    "print(\"\\nEVALUTION MATRIX\\n\\n\",cm)\n",
    "print(\"\\n\\n\\nCLASSIFICATION MATRIX\\n\\n \",report)"
   ]
  },
  {
   "cell_type": "markdown",
   "id": "2cd3b02d",
   "metadata": {},
   "source": [
    "<br>"
   ]
  },
  {
   "cell_type": "markdown",
   "id": "62907129",
   "metadata": {},
   "source": [
    "## Accuracy"
   ]
  },
  {
   "cell_type": "code",
   "execution_count": 30,
   "id": "89706de0",
   "metadata": {},
   "outputs": [
    {
     "name": "stdout",
     "output_type": "stream",
     "text": [
      "Accuracy:  89.02967655885296  %\n"
     ]
    }
   ],
   "source": [
    "score_SVM = accuracy_score(y_test,y_pred)\n",
    "print(\"Accuracy: \", score_SVM*100, \" %\")"
   ]
  },
  {
   "cell_type": "markdown",
   "id": "6299f7d2",
   "metadata": {},
   "source": [
    "<br>"
   ]
  },
  {
   "cell_type": "markdown",
   "id": "e6f03b93",
   "metadata": {},
   "source": [
    "## Training the model ( Naive Bayes )"
   ]
  },
  {
   "cell_type": "code",
   "execution_count": 31,
   "id": "e94faa60",
   "metadata": {},
   "outputs": [
    {
     "data": {
      "text/html": [
       "<style>#sk-container-id-2 {color: black;background-color: white;}#sk-container-id-2 pre{padding: 0;}#sk-container-id-2 div.sk-toggleable {background-color: white;}#sk-container-id-2 label.sk-toggleable__label {cursor: pointer;display: block;width: 100%;margin-bottom: 0;padding: 0.3em;box-sizing: border-box;text-align: center;}#sk-container-id-2 label.sk-toggleable__label-arrow:before {content: \"▸\";float: left;margin-right: 0.25em;color: #696969;}#sk-container-id-2 label.sk-toggleable__label-arrow:hover:before {color: black;}#sk-container-id-2 div.sk-estimator:hover label.sk-toggleable__label-arrow:before {color: black;}#sk-container-id-2 div.sk-toggleable__content {max-height: 0;max-width: 0;overflow: hidden;text-align: left;background-color: #f0f8ff;}#sk-container-id-2 div.sk-toggleable__content pre {margin: 0.2em;color: black;border-radius: 0.25em;background-color: #f0f8ff;}#sk-container-id-2 input.sk-toggleable__control:checked~div.sk-toggleable__content {max-height: 200px;max-width: 100%;overflow: auto;}#sk-container-id-2 input.sk-toggleable__control:checked~label.sk-toggleable__label-arrow:before {content: \"▾\";}#sk-container-id-2 div.sk-estimator input.sk-toggleable__control:checked~label.sk-toggleable__label {background-color: #d4ebff;}#sk-container-id-2 div.sk-label input.sk-toggleable__control:checked~label.sk-toggleable__label {background-color: #d4ebff;}#sk-container-id-2 input.sk-hidden--visually {border: 0;clip: rect(1px 1px 1px 1px);clip: rect(1px, 1px, 1px, 1px);height: 1px;margin: -1px;overflow: hidden;padding: 0;position: absolute;width: 1px;}#sk-container-id-2 div.sk-estimator {font-family: monospace;background-color: #f0f8ff;border: 1px dotted black;border-radius: 0.25em;box-sizing: border-box;margin-bottom: 0.5em;}#sk-container-id-2 div.sk-estimator:hover {background-color: #d4ebff;}#sk-container-id-2 div.sk-parallel-item::after {content: \"\";width: 100%;border-bottom: 1px solid gray;flex-grow: 1;}#sk-container-id-2 div.sk-label:hover label.sk-toggleable__label {background-color: #d4ebff;}#sk-container-id-2 div.sk-serial::before {content: \"\";position: absolute;border-left: 1px solid gray;box-sizing: border-box;top: 0;bottom: 0;left: 50%;z-index: 0;}#sk-container-id-2 div.sk-serial {display: flex;flex-direction: column;align-items: center;background-color: white;padding-right: 0.2em;padding-left: 0.2em;position: relative;}#sk-container-id-2 div.sk-item {position: relative;z-index: 1;}#sk-container-id-2 div.sk-parallel {display: flex;align-items: stretch;justify-content: center;background-color: white;position: relative;}#sk-container-id-2 div.sk-item::before, #sk-container-id-2 div.sk-parallel-item::before {content: \"\";position: absolute;border-left: 1px solid gray;box-sizing: border-box;top: 0;bottom: 0;left: 50%;z-index: -1;}#sk-container-id-2 div.sk-parallel-item {display: flex;flex-direction: column;z-index: 1;position: relative;background-color: white;}#sk-container-id-2 div.sk-parallel-item:first-child::after {align-self: flex-end;width: 50%;}#sk-container-id-2 div.sk-parallel-item:last-child::after {align-self: flex-start;width: 50%;}#sk-container-id-2 div.sk-parallel-item:only-child::after {width: 0;}#sk-container-id-2 div.sk-dashed-wrapped {border: 1px dashed gray;margin: 0 0.4em 0.5em 0.4em;box-sizing: border-box;padding-bottom: 0.4em;background-color: white;}#sk-container-id-2 div.sk-label label {font-family: monospace;font-weight: bold;display: inline-block;line-height: 1.2em;}#sk-container-id-2 div.sk-label-container {text-align: center;}#sk-container-id-2 div.sk-container {/* jupyter's `normalize.less` sets `[hidden] { display: none; }` but bootstrap.min.css set `[hidden] { display: none !important; }` so we also need the `!important` here to be able to override the default hidden behavior on the sphinx rendered scikit-learn.org. See: https://github.com/scikit-learn/scikit-learn/issues/21755 */display: inline-block !important;position: relative;}#sk-container-id-2 div.sk-text-repr-fallback {display: none;}</style><div id=\"sk-container-id-2\" class=\"sk-top-container\"><div class=\"sk-text-repr-fallback\"><pre>MultinomialNB()</pre><b>In a Jupyter environment, please rerun this cell to show the HTML representation or trust the notebook. <br />On GitHub, the HTML representation is unable to render, please try loading this page with nbviewer.org.</b></div><div class=\"sk-container\" hidden><div class=\"sk-item\"><div class=\"sk-estimator sk-toggleable\"><input class=\"sk-toggleable__control sk-hidden--visually\" id=\"sk-estimator-id-2\" type=\"checkbox\" checked><label for=\"sk-estimator-id-2\" class=\"sk-toggleable__label sk-toggleable__label-arrow\">MultinomialNB</label><div class=\"sk-toggleable__content\"><pre>MultinomialNB()</pre></div></div></div></div></div>"
      ],
      "text/plain": [
       "MultinomialNB()"
      ]
     },
     "execution_count": 31,
     "metadata": {},
     "output_type": "execute_result"
    }
   ],
   "source": [
    "model_NB = MultinomialNB()\n",
    "model_NB.fit(train_vectors, y_train)"
   ]
  },
  {
   "cell_type": "markdown",
   "id": "0db54948",
   "metadata": {},
   "source": [
    "<br>"
   ]
  },
  {
   "cell_type": "markdown",
   "id": "87bd893d",
   "metadata": {},
   "source": [
    "## Testing"
   ]
  },
  {
   "cell_type": "code",
   "execution_count": 32,
   "id": "0dd3cee5",
   "metadata": {},
   "outputs": [
    {
     "name": "stdout",
     "output_type": "stream",
     "text": [
      "\n",
      "EVALUTION MATRIX\n",
      "\n",
      " [[ 244   29  552]\n",
      " [   3  715 1370]\n",
      " [   2   53 3030]]\n",
      "\n",
      "\n",
      "\n",
      "CLASSIFICATION MATRIX\n",
      "\n",
      "                precision    recall  f1-score   support\n",
      "\n",
      "    Negative       0.98      0.30      0.45       825\n",
      "     Neutral       0.90      0.34      0.50      2088\n",
      "    Positive       0.61      0.98      0.75      3085\n",
      "\n",
      "    accuracy                           0.67      5998\n",
      "   macro avg       0.83      0.54      0.57      5998\n",
      "weighted avg       0.76      0.67      0.62      5998\n",
      "\n"
     ]
    }
   ],
   "source": [
    "y_pred = model_NB.predict(test_vectors)   \n",
    "cm = confusion_matrix(y_test,y_pred)\n",
    "report = classification_report(y_test,y_pred)\n",
    "\n",
    "print(\"\\nEVALUTION MATRIX\\n\\n\",cm)\n",
    "print(\"\\n\\n\\nCLASSIFICATION MATRIX\\n\\n \",report)"
   ]
  },
  {
   "cell_type": "markdown",
   "id": "ecc08f89",
   "metadata": {},
   "source": [
    "<br>"
   ]
  },
  {
   "cell_type": "markdown",
   "id": "49f79622",
   "metadata": {},
   "source": [
    "## Accuracy"
   ]
  },
  {
   "cell_type": "code",
   "execution_count": 33,
   "id": "d8e50a3b",
   "metadata": {},
   "outputs": [
    {
     "name": "stdout",
     "output_type": "stream",
     "text": [
      "Accuracy:  66.50550183394465  %\n"
     ]
    }
   ],
   "source": [
    "score_NB = accuracy_score(y_test,y_pred)\n",
    "print(\"Accuracy: \", score_NB*100, \" %\")"
   ]
  },
  {
   "cell_type": "markdown",
   "id": "a188c74e",
   "metadata": {},
   "source": [
    "<br>"
   ]
  },
  {
   "cell_type": "markdown",
   "id": "ccf27f07",
   "metadata": {},
   "source": [
    "## Training the model ( Logistic Regression )"
   ]
  },
  {
   "cell_type": "code",
   "execution_count": 34,
   "id": "d50a8195",
   "metadata": {},
   "outputs": [
    {
     "data": {
      "text/html": [
       "<style>#sk-container-id-3 {color: black;background-color: white;}#sk-container-id-3 pre{padding: 0;}#sk-container-id-3 div.sk-toggleable {background-color: white;}#sk-container-id-3 label.sk-toggleable__label {cursor: pointer;display: block;width: 100%;margin-bottom: 0;padding: 0.3em;box-sizing: border-box;text-align: center;}#sk-container-id-3 label.sk-toggleable__label-arrow:before {content: \"▸\";float: left;margin-right: 0.25em;color: #696969;}#sk-container-id-3 label.sk-toggleable__label-arrow:hover:before {color: black;}#sk-container-id-3 div.sk-estimator:hover label.sk-toggleable__label-arrow:before {color: black;}#sk-container-id-3 div.sk-toggleable__content {max-height: 0;max-width: 0;overflow: hidden;text-align: left;background-color: #f0f8ff;}#sk-container-id-3 div.sk-toggleable__content pre {margin: 0.2em;color: black;border-radius: 0.25em;background-color: #f0f8ff;}#sk-container-id-3 input.sk-toggleable__control:checked~div.sk-toggleable__content {max-height: 200px;max-width: 100%;overflow: auto;}#sk-container-id-3 input.sk-toggleable__control:checked~label.sk-toggleable__label-arrow:before {content: \"▾\";}#sk-container-id-3 div.sk-estimator input.sk-toggleable__control:checked~label.sk-toggleable__label {background-color: #d4ebff;}#sk-container-id-3 div.sk-label input.sk-toggleable__control:checked~label.sk-toggleable__label {background-color: #d4ebff;}#sk-container-id-3 input.sk-hidden--visually {border: 0;clip: rect(1px 1px 1px 1px);clip: rect(1px, 1px, 1px, 1px);height: 1px;margin: -1px;overflow: hidden;padding: 0;position: absolute;width: 1px;}#sk-container-id-3 div.sk-estimator {font-family: monospace;background-color: #f0f8ff;border: 1px dotted black;border-radius: 0.25em;box-sizing: border-box;margin-bottom: 0.5em;}#sk-container-id-3 div.sk-estimator:hover {background-color: #d4ebff;}#sk-container-id-3 div.sk-parallel-item::after {content: \"\";width: 100%;border-bottom: 1px solid gray;flex-grow: 1;}#sk-container-id-3 div.sk-label:hover label.sk-toggleable__label {background-color: #d4ebff;}#sk-container-id-3 div.sk-serial::before {content: \"\";position: absolute;border-left: 1px solid gray;box-sizing: border-box;top: 0;bottom: 0;left: 50%;z-index: 0;}#sk-container-id-3 div.sk-serial {display: flex;flex-direction: column;align-items: center;background-color: white;padding-right: 0.2em;padding-left: 0.2em;position: relative;}#sk-container-id-3 div.sk-item {position: relative;z-index: 1;}#sk-container-id-3 div.sk-parallel {display: flex;align-items: stretch;justify-content: center;background-color: white;position: relative;}#sk-container-id-3 div.sk-item::before, #sk-container-id-3 div.sk-parallel-item::before {content: \"\";position: absolute;border-left: 1px solid gray;box-sizing: border-box;top: 0;bottom: 0;left: 50%;z-index: -1;}#sk-container-id-3 div.sk-parallel-item {display: flex;flex-direction: column;z-index: 1;position: relative;background-color: white;}#sk-container-id-3 div.sk-parallel-item:first-child::after {align-self: flex-end;width: 50%;}#sk-container-id-3 div.sk-parallel-item:last-child::after {align-self: flex-start;width: 50%;}#sk-container-id-3 div.sk-parallel-item:only-child::after {width: 0;}#sk-container-id-3 div.sk-dashed-wrapped {border: 1px dashed gray;margin: 0 0.4em 0.5em 0.4em;box-sizing: border-box;padding-bottom: 0.4em;background-color: white;}#sk-container-id-3 div.sk-label label {font-family: monospace;font-weight: bold;display: inline-block;line-height: 1.2em;}#sk-container-id-3 div.sk-label-container {text-align: center;}#sk-container-id-3 div.sk-container {/* jupyter's `normalize.less` sets `[hidden] { display: none; }` but bootstrap.min.css set `[hidden] { display: none !important; }` so we also need the `!important` here to be able to override the default hidden behavior on the sphinx rendered scikit-learn.org. See: https://github.com/scikit-learn/scikit-learn/issues/21755 */display: inline-block !important;position: relative;}#sk-container-id-3 div.sk-text-repr-fallback {display: none;}</style><div id=\"sk-container-id-3\" class=\"sk-top-container\"><div class=\"sk-text-repr-fallback\"><pre>LogisticRegression(C=0.1, penalty=&#x27;l1&#x27;, solver=&#x27;liblinear&#x27;)</pre><b>In a Jupyter environment, please rerun this cell to show the HTML representation or trust the notebook. <br />On GitHub, the HTML representation is unable to render, please try loading this page with nbviewer.org.</b></div><div class=\"sk-container\" hidden><div class=\"sk-item\"><div class=\"sk-estimator sk-toggleable\"><input class=\"sk-toggleable__control sk-hidden--visually\" id=\"sk-estimator-id-3\" type=\"checkbox\" checked><label for=\"sk-estimator-id-3\" class=\"sk-toggleable__label sk-toggleable__label-arrow\">LogisticRegression</label><div class=\"sk-toggleable__content\"><pre>LogisticRegression(C=0.1, penalty=&#x27;l1&#x27;, solver=&#x27;liblinear&#x27;)</pre></div></div></div></div></div>"
      ],
      "text/plain": [
       "LogisticRegression(C=0.1, penalty='l1', solver='liblinear')"
      ]
     },
     "execution_count": 34,
     "metadata": {},
     "output_type": "execute_result"
    }
   ],
   "source": [
    "model_LR = sklearn.linear_model.LogisticRegression(penalty = \"l1\", C=0.1, solver=\"liblinear\")\n",
    "model_LR.fit(train_vectors, y_train)"
   ]
  },
  {
   "cell_type": "markdown",
   "id": "f24ee3aa",
   "metadata": {},
   "source": [
    "<br>"
   ]
  },
  {
   "cell_type": "markdown",
   "id": "77dcd301",
   "metadata": {},
   "source": [
    "## Testing"
   ]
  },
  {
   "cell_type": "code",
   "execution_count": 35,
   "id": "69911f1d",
   "metadata": {},
   "outputs": [
    {
     "name": "stdout",
     "output_type": "stream",
     "text": [
      "\n",
      "EVALUTION MATRIX\n",
      "\n",
      " [[ 326  263  236]\n",
      " [   5 1697  386]\n",
      " [  36  602 2447]]\n",
      "\n",
      "\n",
      "\n",
      "CLASSIFICATION MATRIX\n",
      "\n",
      "                precision    recall  f1-score   support\n",
      "\n",
      "    Negative       0.89      0.40      0.55       825\n",
      "     Neutral       0.66      0.81      0.73      2088\n",
      "    Positive       0.80      0.79      0.80      3085\n",
      "\n",
      "    accuracy                           0.75      5998\n",
      "   macro avg       0.78      0.67      0.69      5998\n",
      "weighted avg       0.76      0.75      0.74      5998\n",
      "\n"
     ]
    }
   ],
   "source": [
    "y_pred = model_LR.predict(test_vectors)   \n",
    "cm = confusion_matrix(y_test,y_pred)\n",
    "report = classification_report(y_test,y_pred)\n",
    "\n",
    "print(\"\\nEVALUTION MATRIX\\n\\n\",cm)\n",
    "print(\"\\n\\n\\nCLASSIFICATION MATRIX\\n\\n \",report)"
   ]
  },
  {
   "cell_type": "markdown",
   "id": "23cb0056",
   "metadata": {},
   "source": [
    "<br>"
   ]
  },
  {
   "cell_type": "markdown",
   "id": "e8b68994",
   "metadata": {},
   "source": [
    "## Accuracy"
   ]
  },
  {
   "cell_type": "code",
   "execution_count": 36,
   "id": "981a76f5",
   "metadata": {},
   "outputs": [
    {
     "name": "stdout",
     "output_type": "stream",
     "text": [
      "Accuracy:  74.5248416138713  %\n"
     ]
    }
   ],
   "source": [
    "score_LR = accuracy_score(y_test,y_pred)\n",
    "print(\"Accuracy: \", score_LR*100, \" %\")"
   ]
  },
  {
   "cell_type": "markdown",
   "id": "2fbb35a6",
   "metadata": {},
   "source": [
    "<br>"
   ]
  },
  {
   "cell_type": "markdown",
   "id": "7c863c11",
   "metadata": {},
   "source": [
    "## Comparing accuracies"
   ]
  },
  {
   "cell_type": "code",
   "execution_count": 37,
   "id": "a7e3fd49",
   "metadata": {},
   "outputs": [
    {
     "data": {
      "image/png": "[encoded data removed]",
      "text/plain": [
       "<Figure size 640x480 with 1 Axes>"
      ]
     },
     "metadata": {},
     "output_type": "display_data"
    }
   ],
   "source": [
    "x = ['SVM', 'NB', 'LR']\n",
    "y = [score_SVM*100, score_NB*100, score_LR*100]\n",
    "\n",
    "plt.bar(x,y)\n",
    "plt.xlabel('Methods')\n",
    "plt.ylabel('Accuracy')\n",
    "plt.title('Accuracy bar plot')\n",
    "plt.show()"
   ]
  },
  {
   "cell_type": "markdown",
   "id": "1b954fef",
   "metadata": {},
   "source": [
    "### SVM ( Support vector machine ) algorithm got the highest accuracy"
   ]
  }
 ],
 "metadata": {
  "kernelspec": {
   "display_name": "Python 3 (ipykernel)",
   "language": "python",
   "name": "python3"
  },
  "language_info": {
   "codemirror_mode": {
    "name": "ipython",
    "version": 3
   },
   "file_extension": ".py",
   "mimetype": "text/x-python",
   "name": "python",
   "nbconvert_exporter": "python",
   "pygments_lexer": "ipython3",
   "version": "3.10.6"
  }
 },
 "nbformat": 4,
 "nbformat_minor": 5
}
